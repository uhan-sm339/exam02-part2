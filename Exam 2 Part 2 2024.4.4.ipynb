{
 "cells": [
  {
   "cell_type": "markdown",
   "id": "537f7497-7da9-40d7-914a-88637427423b",
   "metadata": {
    "deletable": false,
    "editable": false,
    "slideshow": {
     "slide_type": ""
    },
    "tags": []
   },
   "source": [
    "**SM339 &#x25aa; Applied Statistics &#x25aa; Spring 2024 &#x25aa; Uhan**"
   ]
  },
  {
   "cell_type": "markdown",
   "id": "006f0de1-669a-48b5-b439-586363218e1c",
   "metadata": {
    "deletable": false,
    "editable": false,
    "slideshow": {
     "slide_type": ""
    },
    "tags": []
   },
   "source": [
    "# Exam 2 &mdash; Part 2 &mdash; 4/4/2024"
   ]
  },
  {
   "cell_type": "markdown",
   "id": "66c64f80-c669-4d8e-ba0f-eb4bc51cf066",
   "metadata": {
    "deletable": false,
    "editable": false,
    "slideshow": {
     "slide_type": ""
    },
    "tags": []
   },
   "source": [
    "## Instructions\n",
    "\n",
    "This part is worth 40 points total. The exam (both parts) is worth 100 points total.\n",
    "\n",
    "You have until the end of the class period to complete this part of the exam.\n",
    "\n",
    "You may use your plebe-issue TI-36X Pro calculator.\n",
    "\n",
    "You may refer to notes that _you have handwritten_, not to exceed _one side_ of an 8.5\" × 11\" piece of paper.\n",
    "\n",
    "You may _not_ use any other materials.\n",
    "\n",
    "__No applications except for JupyterLab may be open on your laptop during the exam.__\n",
    "\n",
    "__No collaboration allowed.__ All work must be your own.\n",
    "\n",
    "__Do not discuss the contents of this exam with any midshipmen until it is returned to you.__\n",
    "\n",
    "Type your answers __directly in this Jupyter notebook__, and submit this notebook (just the `ipynb` file) using the submission form on the [course website](https://courses.uhan.me/sm339/)."
   ]
  },
  {
   "cell_type": "markdown",
   "id": "6a20fa24-89e9-4b34-be3d-b2d6c2cc8599",
   "metadata": {
    "deletable": false,
    "editable": false,
    "slideshow": {
     "slide_type": ""
    },
    "tags": []
   },
   "source": [
    "## Problem 0\n",
    "\n",
    "For this exam, we will use the `MLBStandings2016` dataset from the `Stat2Data` package.\n",
    "This dataset contains the standings and team statistics for all Major League Baseball teams for the 2016 season.\n",
    "\n",
    "Run the cell below to load and preview the data."
   ]
  },
  {
   "cell_type": "code",
   "execution_count": null,
   "id": "9d61e5c4-18fe-4fd2-94c7-b786a6029c62",
   "metadata": {
    "deletable": false,
    "editable": false,
    "slideshow": {
     "slide_type": ""
    },
    "tags": []
   },
   "outputs": [],
   "source": [
    "options(repr.matrix.max.cols = 21)  # show all 21 columns\n",
    "library(Stat2Data)\n",
    "data(MLBStandings2016)\n",
    "head(MLBStandings2016)"
   ]
  },
  {
   "cell_type": "markdown",
   "id": "23e34b65-6394-489e-a022-3f72f7c7edc4",
   "metadata": {
    "deletable": false,
    "editable": false,
    "slideshow": {
     "slide_type": ""
    },
    "tags": []
   },
   "source": [
    "## Problem 1\n",
    "\n",
    "For this problem, we will focus on the following variables in `MLBStandings2016`:\n",
    "\n",
    "| Variable | Description |\n",
    "| :- | :- |\n",
    "| _WinPct_ | Proportion of games won | \n",
    "| _ERA_ | Earned run average (earned runs allowed per 9 innings) | \n",
    "| _Runs_ | Number of runs scored | \n",
    "| _RBI_ | Number of runs batted in |\n",
    "| _WHIP_ | Number of walks and hits per inning pitched |\n",
    "| _HitsAllowed_ | Number of hits against the team |"
   ]
  },
  {
   "attachments": {},
   "cell_type": "markdown",
   "id": "edfaac98-2e22-457f-a466-d0a7bad86e28",
   "metadata": {
    "deletable": false,
    "editable": false,
    "slideshow": {
     "slide_type": ""
    },
    "tags": []
   },
   "source": [
    "### a.\n",
    "\n",
    "Consider the following model, which we will call Model A:\n",
    "\n",
    "$$ \\text{(Model A)} \\qquad \\mathit{WinPct} = \\beta_0 + \\beta_1 \\mathit{ERA} + \\beta_2 \\mathit{Runs} + \\varepsilon \\qquad \\varepsilon \\sim \\text{iid } N(0, \\sigma_{\\varepsilon}^2) $$\n",
    "\n",
    "Fit Model A. Provide __only__ the summary output for this part."
   ]
  },
  {
   "cell_type": "code",
   "execution_count": null,
   "id": "0c0e3db8-413b-4007-9761-20d2982e00a7",
   "metadata": {
    "deletable": false,
    "editable": true,
    "slideshow": {
     "slide_type": ""
    },
    "tags": []
   },
   "outputs": [],
   "source": []
  },
  {
   "cell_type": "markdown",
   "id": "286e344e-e895-430f-890a-0f5145d1badf",
   "metadata": {
    "deletable": false,
    "editable": false,
    "slideshow": {
     "slide_type": ""
    },
    "tags": []
   },
   "source": [
    "### b.\n",
    "\n",
    "Is the overall model effective?\n",
    "\n",
    "- Answer yes or no.\n",
    "- Report (1) the name of the hypothesis test, (2) the test statistic and (3) the $p$-value you used to make your decision. Use a significance level of 0.05."
   ]
  },
  {
   "cell_type": "markdown",
   "id": "bb839e81-a4cd-47e8-bb74-72eafe55d7b8",
   "metadata": {
    "deletable": false,
    "editable": true,
    "slideshow": {
     "slide_type": ""
    },
    "tags": []
   },
   "source": [
    "*Write your answer here. Double-click to edit.*"
   ]
  },
  {
   "cell_type": "markdown",
   "id": "ab66b49b-134b-4743-b09e-f5e225597066",
   "metadata": {
    "deletable": false,
    "editable": false,
    "slideshow": {
     "slide_type": ""
    },
    "tags": []
   },
   "source": [
    "### c.\n",
    "\n",
    "Consider the following model, which we call Model B:\n",
    "\n",
    "$$ \\text{(Model B)} \\qquad \\mathit{WinPct} = \\beta_0 + \\beta_1 \\mathit{ERA} + \\beta_2 \\mathit{Runs} + \\beta_3 \\mathit{RBI} + \\beta_4 \\mathit{WHIP} + \\beta_5 \\mathit{HitsAllowed} + \\varepsilon \\qquad \\varepsilon \\sim \\text{iid } N(0, \\sigma_{\\varepsilon}^2) $$\n",
    "\n",
    "Fit Model B. Provide __only__ the summary output for this part."
   ]
  },
  {
   "cell_type": "code",
   "execution_count": null,
   "id": "986877a2-99e3-4882-b9b8-092a7d2f73f5",
   "metadata": {
    "deletable": false,
    "editable": true,
    "slideshow": {
     "slide_type": ""
    },
    "tags": []
   },
   "outputs": [],
   "source": []
  },
  {
   "cell_type": "markdown",
   "id": "33d2d67c-f281-45d2-ba6b-4c3363662def",
   "metadata": {
    "deletable": false,
    "editable": false,
    "slideshow": {
     "slide_type": ""
    },
    "tags": []
   },
   "source": [
    "### d.\n",
    "\n",
    "Report the adjusted $R^2$ for Model A and Model B.\n",
    "\n",
    "__Without any formal hypothesis testing__, which model do you think is \"better\"? Briefly explain. \n",
    "Your explanation should be in complete sentences, with correct spelling and grammar."
   ]
  },
  {
   "cell_type": "markdown",
   "id": "09845a2f-e510-4902-a01e-0af6557f5d68",
   "metadata": {
    "deletable": false,
    "editable": true,
    "slideshow": {
     "slide_type": ""
    },
    "tags": []
   },
   "source": [
    "*Write your answer here. Double-click to edit.*"
   ]
  },
  {
   "cell_type": "markdown",
   "id": "cc555f3c-b29b-4938-8ef0-0681ab97d198",
   "metadata": {
    "deletable": false,
    "editable": false,
    "slideshow": {
     "slide_type": ""
    },
    "tags": []
   },
   "source": [
    "### e. \n",
    "\n",
    "Conduct a nested $F$-test to compare Model A and Model B.\n",
    "\n",
    "In particular, in the cell below, compute the test statistic and $p$-value for this test. You are encouraged to use any appropriate \"shortcut\" functions in R. \n",
    "\n",
    "You will be asked to interpret the results of the test in part f."
   ]
  },
  {
   "cell_type": "code",
   "execution_count": null,
   "id": "a383ce24-5672-4e19-8365-8947c1d09d24",
   "metadata": {
    "deletable": false,
    "editable": true,
    "slideshow": {
     "slide_type": ""
    },
    "tags": []
   },
   "outputs": [],
   "source": []
  },
  {
   "cell_type": "markdown",
   "id": "d70d9f81-5362-4d60-8adc-61db72c79644",
   "metadata": {
    "deletable": false,
    "editable": false,
    "slideshow": {
     "slide_type": ""
    },
    "tags": []
   },
   "source": [
    "### f.\n",
    "\n",
    "Based on the nested $F$-test you performed in part e, which model is \"better\"?\n",
    "Report (1) the test statistic and (2) the $p$-value you used to make your decision. \n",
    "Use a significance level of 0.05."
   ]
  },
  {
   "cell_type": "markdown",
   "id": "10cc2888-8667-4d12-b7a8-b5f7ccf85382",
   "metadata": {
    "deletable": false,
    "editable": true,
    "slideshow": {
     "slide_type": ""
    },
    "tags": []
   },
   "source": [
    "*Write your answer here. Double-click to edit.*"
   ]
  },
  {
   "cell_type": "markdown",
   "id": "b12db451-691d-4f2b-9b2d-718c5ead1254",
   "metadata": {
    "deletable": false,
    "editable": false,
    "slideshow": {
     "slide_type": ""
    },
    "tags": []
   },
   "source": [
    "## Problem 2\n",
    "\n",
    "For this problem, we will focus on the following variables in `MLBStandings2016`:\n",
    "\n",
    "| Variable | Description |\n",
    "| :- | :- |\n",
    "| _WinPct_ | Proportion of games won | \n",
    "| _BattingAverage_ | Team batting average |\n",
    "| _Runs_ | Number of runs scored |\n",
    "| _Hits_ | Number of hits |\n",
    "\n",
    "Consider the following model: \n",
    "\n",
    "$$ \\mathit{WinPct} = \\beta_0 + \\beta_1 \\mathit{BattingAverage} + \\beta_2 \\mathit{Runs} + \\beta_3 \\mathit{Hits} + \\varepsilon \\qquad \\varepsilon \\sim \\text{iid } N(0, \\sigma_{\\varepsilon}^2) $$"
   ]
  },
  {
   "attachments": {},
   "cell_type": "markdown",
   "id": "cee01f7e-92b2-4c0c-9992-e9987a335c6d",
   "metadata": {
    "deletable": false,
    "editable": false,
    "slideshow": {
     "slide_type": ""
    },
    "tags": []
   },
   "source": [
    "### a.\n",
    "\n",
    "Fit the model.\n",
    "Provide __only__ the summary output for this part."
   ]
  },
  {
   "cell_type": "code",
   "execution_count": null,
   "id": "8d914fa3-0323-4abd-9a54-a685648c3a1a",
   "metadata": {
    "deletable": false,
    "editable": true,
    "slideshow": {
     "slide_type": ""
    },
    "tags": []
   },
   "outputs": [],
   "source": []
  },
  {
   "cell_type": "markdown",
   "id": "91b2a033-65bb-4659-8d6f-2569493abdb2",
   "metadata": {
    "deletable": false,
    "editable": false,
    "slideshow": {
     "slide_type": ""
    },
    "tags": []
   },
   "source": [
    "### b.\n",
    "\n",
    "Construct and interpret a 90% interval that predicts the winning percentage of a future team with a 0.275 batting average, 700 runs, and 1380 hits over the course of one season."
   ]
  },
  {
   "cell_type": "code",
   "execution_count": null,
   "id": "8d5db16b-9411-4494-9eb9-de25f021f5cf",
   "metadata": {
    "deletable": false,
    "editable": true,
    "slideshow": {
     "slide_type": ""
    },
    "tags": []
   },
   "outputs": [],
   "source": []
  },
  {
   "cell_type": "markdown",
   "id": "fcb68f91-e1b5-49a9-86b2-15ffedf5f765",
   "metadata": {
    "deletable": false,
    "editable": true,
    "slideshow": {
     "slide_type": ""
    },
    "tags": []
   },
   "source": [
    "*Write your answer here. Double-click to edit.*"
   ]
  },
  {
   "cell_type": "markdown",
   "id": "557295c4-12ae-40c7-a8ba-aa0e07b4da01",
   "metadata": {
    "deletable": false,
    "editable": false,
    "slideshow": {
     "slide_type": ""
    },
    "tags": []
   },
   "source": [
    "### c.\n",
    "\n",
    "Do you see any of the red flags for multicollinearity we discussed in class? Briefly explain. Your explanation should be in complete sentences, with correct spelling and grammar."
   ]
  },
  {
   "cell_type": "markdown",
   "id": "387e3c43-eef0-4061-8050-ef5c0a0879c0",
   "metadata": {
    "deletable": false,
    "editable": true,
    "slideshow": {
     "slide_type": ""
    },
    "tags": []
   },
   "source": [
    "*Write your answer here. Double-click to edit.*"
   ]
  },
  {
   "cell_type": "markdown",
   "id": "e46e0027-0844-402a-82a7-3673db5f547d",
   "metadata": {
    "deletable": false,
    "editable": false,
    "slideshow": {
     "slide_type": ""
    },
    "tags": []
   },
   "source": [
    "### d. \n",
    "Compute the VIFs of all the predictors in this model. \n",
    "Based on the VIFs, should we be worried about multicollinearity?\n",
    "Briefy explain.\n",
    "State any rules of thumb you use."
   ]
  },
  {
   "cell_type": "code",
   "execution_count": null,
   "id": "eff279f0-89c5-4fc1-bf2e-4e3872bc4d98",
   "metadata": {
    "deletable": false,
    "editable": true,
    "slideshow": {
     "slide_type": ""
    },
    "tags": []
   },
   "outputs": [],
   "source": []
  },
  {
   "cell_type": "markdown",
   "id": "63b15855-492d-4a69-b4c1-c85fc9dc69dc",
   "metadata": {
    "deletable": false,
    "editable": true,
    "slideshow": {
     "slide_type": ""
    },
    "tags": []
   },
   "source": [
    "*Write your answer here. Double-click to edit.*"
   ]
  },
  {
   "cell_type": "markdown",
   "id": "08fd4b6b-f57b-498e-a031-2489f9c20da0",
   "metadata": {
    "deletable": false,
    "editable": false,
    "slideshow": {
     "slide_type": ""
    },
    "tags": []
   },
   "source": [
    "## Grading rubric\n",
    "\n",
    "| Problem | Weight |\n",
    "| :-: | -: |\n",
    "| 1a | 0.4 | \n",
    "| 1b | 0.4 | \n",
    "| 1c | 0.4 |\n",
    "| 1d | 0.4 |\n",
    "| 1e | 0.4 |\n",
    "| 1f | 0.4 |\n",
    "| 2a | 0.4 | \n",
    "| 2b | 0.4 |\n",
    "| 2c | 0.4 |\n",
    "| 2d | 0.4 |\n",
    "| __Max Score__ | __40__ |"
   ]
  }
 ],
 "metadata": {
  "kernelspec": {
   "display_name": "R",
   "language": "R",
   "name": "ir"
  },
  "language_info": {
   "codemirror_mode": "r",
   "file_extension": ".r",
   "mimetype": "text/x-r-source",
   "name": "R",
   "pygments_lexer": "r",
   "version": "4.2.2"
  }
 },
 "nbformat": 4,
 "nbformat_minor": 5
}
